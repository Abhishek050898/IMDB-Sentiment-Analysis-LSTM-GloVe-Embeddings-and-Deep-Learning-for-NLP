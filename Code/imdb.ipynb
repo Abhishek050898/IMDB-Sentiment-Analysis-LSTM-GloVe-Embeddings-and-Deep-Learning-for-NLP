{
 "cells": [
  {
   "cell_type": "code",
   "execution_count": 2,
   "metadata": {},
   "outputs": [
    {
     "name": "stdout",
     "output_type": "stream",
     "text": [
      "WARNING:tensorflow:From c:\\Users\\abhis\\MANCHESTER\\Course\\Archive\\Sentiment Analysis- IMDB\\envTM\\Lib\\site-packages\\keras\\src\\losses.py:2976: The name tf.losses.sparse_softmax_cross_entropy is deprecated. Please use tf.compat.v1.losses.sparse_softmax_cross_entropy instead.\n",
      "\n"
     ]
    }
   ],
   "source": [
    "import pandas as pd\n",
    "import numpy as np\n",
    "import re\n",
    "import nltk\n",
    "from nltk.corpus import stopwords\n",
    "from numpy import array\n",
    "from keras.preprocessing.text import one_hot, Tokenizer\n",
    "from keras.preprocessing.sequence import pad_sequences\n",
    "from keras.models import Sequential\n",
    "from keras.layers import Flatten, GlobalMaxPooling1D, Embedding, Conv1D, LSTM, Flatten, Activation, Dense\n",
    "from sklearn.model_selection import train_test_split"
   ]
  },
  {
   "cell_type": "code",
   "execution_count": 3,
   "metadata": {},
   "outputs": [],
   "source": [
    "movie = pd.read_csv(\"IMDB Dataset.csv\")"
   ]
  },
  {
   "cell_type": "code",
   "execution_count": 4,
   "metadata": {},
   "outputs": [
    {
     "data": {
      "text/html": [
       "<div>\n",
       "<style scoped>\n",
       "    .dataframe tbody tr th:only-of-type {\n",
       "        vertical-align: middle;\n",
       "    }\n",
       "\n",
       "    .dataframe tbody tr th {\n",
       "        vertical-align: top;\n",
       "    }\n",
       "\n",
       "    .dataframe thead th {\n",
       "        text-align: right;\n",
       "    }\n",
       "</style>\n",
       "<table border=\"1\" class=\"dataframe\">\n",
       "  <thead>\n",
       "    <tr style=\"text-align: right;\">\n",
       "      <th></th>\n",
       "      <th>review</th>\n",
       "      <th>sentiment</th>\n",
       "    </tr>\n",
       "  </thead>\n",
       "  <tbody>\n",
       "    <tr>\n",
       "      <th>0</th>\n",
       "      <td>One of the other reviewers has mentioned that ...</td>\n",
       "      <td>positive</td>\n",
       "    </tr>\n",
       "    <tr>\n",
       "      <th>1</th>\n",
       "      <td>A wonderful little production. &lt;br /&gt;&lt;br /&gt;The...</td>\n",
       "      <td>positive</td>\n",
       "    </tr>\n",
       "    <tr>\n",
       "      <th>2</th>\n",
       "      <td>I thought this was a wonderful way to spend ti...</td>\n",
       "      <td>positive</td>\n",
       "    </tr>\n",
       "    <tr>\n",
       "      <th>3</th>\n",
       "      <td>Basically there's a family where a little boy ...</td>\n",
       "      <td>negative</td>\n",
       "    </tr>\n",
       "    <tr>\n",
       "      <th>4</th>\n",
       "      <td>Petter Mattei's \"Love in the Time of Money\" is...</td>\n",
       "      <td>positive</td>\n",
       "    </tr>\n",
       "    <tr>\n",
       "      <th>...</th>\n",
       "      <td>...</td>\n",
       "      <td>...</td>\n",
       "    </tr>\n",
       "    <tr>\n",
       "      <th>49995</th>\n",
       "      <td>I thought this movie did a down right good job...</td>\n",
       "      <td>positive</td>\n",
       "    </tr>\n",
       "    <tr>\n",
       "      <th>49996</th>\n",
       "      <td>Bad plot, bad dialogue, bad acting, idiotic di...</td>\n",
       "      <td>negative</td>\n",
       "    </tr>\n",
       "    <tr>\n",
       "      <th>49997</th>\n",
       "      <td>I am a Catholic taught in parochial elementary...</td>\n",
       "      <td>negative</td>\n",
       "    </tr>\n",
       "    <tr>\n",
       "      <th>49998</th>\n",
       "      <td>I'm going to have to disagree with the previou...</td>\n",
       "      <td>negative</td>\n",
       "    </tr>\n",
       "    <tr>\n",
       "      <th>49999</th>\n",
       "      <td>No one expects the Star Trek movies to be high...</td>\n",
       "      <td>negative</td>\n",
       "    </tr>\n",
       "  </tbody>\n",
       "</table>\n",
       "<p>50000 rows × 2 columns</p>\n",
       "</div>"
      ],
      "text/plain": [
       "                                                  review sentiment\n",
       "0      One of the other reviewers has mentioned that ...  positive\n",
       "1      A wonderful little production. <br /><br />The...  positive\n",
       "2      I thought this was a wonderful way to spend ti...  positive\n",
       "3      Basically there's a family where a little boy ...  negative\n",
       "4      Petter Mattei's \"Love in the Time of Money\" is...  positive\n",
       "...                                                  ...       ...\n",
       "49995  I thought this movie did a down right good job...  positive\n",
       "49996  Bad plot, bad dialogue, bad acting, idiotic di...  negative\n",
       "49997  I am a Catholic taught in parochial elementary...  negative\n",
       "49998  I'm going to have to disagree with the previou...  negative\n",
       "49999  No one expects the Star Trek movies to be high...  negative\n",
       "\n",
       "[50000 rows x 2 columns]"
      ]
     },
     "execution_count": 4,
     "metadata": {},
     "output_type": "execute_result"
    }
   ],
   "source": [
    "movie"
   ]
  },
  {
   "cell_type": "markdown",
   "metadata": {},
   "source": [
    "### Data Preprocessing"
   ]
  },
  {
   "cell_type": "code",
   "execution_count": 5,
   "metadata": {},
   "outputs": [
    {
     "name": "stderr",
     "output_type": "stream",
     "text": [
      "[nltk_data] Downloading package stopwords to\n",
      "[nltk_data]     C:\\Users\\abhis\\AppData\\Roaming\\nltk_data...\n",
      "[nltk_data]   Package stopwords is already up-to-date!\n"
     ]
    },
    {
     "data": {
      "text/plain": [
       "True"
      ]
     },
     "execution_count": 5,
     "metadata": {},
     "output_type": "execute_result"
    }
   ],
   "source": [
    "import nltk\n",
    "nltk.download('stopwords')"
   ]
  },
  {
   "cell_type": "code",
   "execution_count": 6,
   "metadata": {},
   "outputs": [],
   "source": [
    "TAG_RE = re.compile(r'<[^>]+>')\n",
    "\n",
    "def remove_tags(text):\n",
    "    return TAG_RE.sub('',text)"
   ]
  },
  {
   "cell_type": "code",
   "execution_count": 7,
   "metadata": {},
   "outputs": [],
   "source": [
    "def preprocess_sent(sen):\n",
    "    sentence = sen.lower() #lowercase\n",
    "    sentence = remove_tags(sentence)#remove html tags\n",
    "    sentence = re.sub('[^a-zA-Z]',' ',sentence)#remove punctuation and numbers\n",
    "    sentence = re.sub(r\"\\s+[a-zA-Z]\\s+\", ' ', sentence)#remove single char\n",
    "    sentence = re.sub(r'\\s',' ',sentence)#remove multiple spaces\n",
    "    pattern = re.compile(r'\\b(' + r'|'.join(stopwords.words('english')) + r')\\b\\s*')\n",
    "    sentence = pattern.sub('', sentence)\n",
    "    return sentence"
   ]
  },
  {
   "cell_type": "code",
   "execution_count": 8,
   "metadata": {},
   "outputs": [],
   "source": [
    "X = []\n",
    "sentences = list(movie['review'])\n",
    "for sen in sentences:\n",
    "    X.append(preprocess_sent(sen))"
   ]
  },
  {
   "cell_type": "code",
   "execution_count": 9,
   "metadata": {},
   "outputs": [],
   "source": [
    "#converting sentiments to 0 and 1\n",
    "y = movie['sentiment']\n",
    "y = np.array(list(map(lambda x:1 if x=='positive' else 0, y)))"
   ]
  },
  {
   "cell_type": "code",
   "execution_count": 18,
   "metadata": {},
   "outputs": [],
   "source": [
    "X_train, X_test, y_train, y_test = train_test_split(X, y, test_size=0.20, random_state=42)"
   ]
  },
  {
   "cell_type": "code",
   "execution_count": 19,
   "metadata": {},
   "outputs": [],
   "source": [
    "word_tokenizer = Tokenizer()\n",
    "word_tokenizer.fit_on_texts(X_train)\n",
    "\n",
    "X_train = word_tokenizer.texts_to_sequences(X_train)\n",
    "X_test = word_tokenizer.texts_to_sequences(X_test)\n",
    "\n",
    "vocab_length = len(word_tokenizer.word_index) + 1 #vocab length -- unique words in tokenizers word index\n",
    "\n",
    "maxlen = 100\n",
    "X_train = pad_sequences(X_train, padding='post', maxlen= maxlen)\n",
    "X_test = pad_sequences(X_test, padding='post', maxlen=maxlen)"
   ]
  },
  {
   "cell_type": "markdown",
   "metadata": {},
   "source": [
    "### Embedding"
   ]
  },
  {
   "cell_type": "markdown",
   "metadata": {},
   "source": [
    "1. Transfer Learning: Using pre-trained word embeddings (such as GloVe or Word2Vec embeddings) as initial weights in the embedding layer allows the model to leverage knowledge learned from vast amounts of text data. This is particularly useful when you have a limited amount of training data, as it helps improve the model's performance by transferring knowledge from the pre-trained embeddings.\n",
    "\n",
    "\n",
    "2. Instead of representing words as sparse one-hot vectors (where each word is represented by a vector with all elements being zero except for one element representing the word), embeddings represent words as dense vectors of fixed size. This dense representation allows the model to generalize better and capture semantic similarities between words."
   ]
  },
  {
   "cell_type": "code",
   "execution_count": 20,
   "metadata": {},
   "outputs": [],
   "source": [
    "from numpy import asarray\n",
    "from numpy import zeros\n",
    "\n",
    "embeddings_dict = dict()\n",
    "\n",
    "glove_file = open('glove.6B.100d.txt',encoding='utf8')\n",
    "\n",
    "for line in glove_file:\n",
    "    records = line.split()\n",
    "    word = records[0]\n",
    "    dimensions = asarray(records[1:], dtype='float32')\n",
    "    embeddings_dict[word]=dimensions\n",
    "glove_file.close()"
   ]
  },
  {
   "cell_type": "code",
   "execution_count": 21,
   "metadata": {},
   "outputs": [
    {
     "data": {
      "text/plain": [
       "(92394, 100)"
      ]
     },
     "execution_count": 21,
     "metadata": {},
     "output_type": "execute_result"
    }
   ],
   "source": [
    "#Embedding Matrix with 100 columns\n",
    "\n",
    "embeddings_matrix = zeros((vocab_length, 100))\n",
    "\n",
    "for word, index in word_tokenizer.word_index.items():\n",
    "    embedding_vector = embeddings_dict.get(word)\n",
    "    if embedding_vector is not None:\n",
    "        embeddings_matrix[index] = embedding_vector\n",
    "\n",
    "\n",
    "embeddings_matrix.shape"
   ]
  },
  {
   "cell_type": "markdown",
   "metadata": {},
   "source": [
    "### Modelling - Simple Neural Network"
   ]
  },
  {
   "cell_type": "code",
   "execution_count": 46,
   "metadata": {},
   "outputs": [
    {
     "name": "stdout",
     "output_type": "stream",
     "text": [
      "Model: \"sequential_5\"\n",
      "_________________________________________________________________\n",
      " Layer (type)                Output Shape              Param #   \n",
      "=================================================================\n",
      " embedding_5 (Embedding)     (None, 100, 100)          9239400   \n",
      "                                                                 \n",
      " flatten_5 (Flatten)         (None, 10000)             0         \n",
      "                                                                 \n",
      " dense_3 (Dense)             (None, 1)                 10001     \n",
      "                                                                 \n",
      "=================================================================\n",
      "Total params: 9249401 (35.28 MB)\n",
      "Trainable params: 10001 (39.07 KB)\n",
      "Non-trainable params: 9239400 (35.25 MB)\n",
      "_________________________________________________________________\n",
      "None\n"
     ]
    }
   ],
   "source": [
    "model1 = Sequential()\n",
    "embedding_layer = Embedding(vocab_length, 100, weights=[embeddings_matrix], input_length=maxlen, trainable=False)\n",
    "model1.add(embedding_layer)\n",
    "model1.add(Flatten()) #flattens the input, dense layer expects flatten input\n",
    "model1.add(Dense(1, activation='sigmoid')) # 1 neuron for binary classification task, sigmoid outputs between 0 and 1\n",
    "\n",
    "model1.compile(optimizer='adam', loss='binary_crossentropy', metrics=['accuracy'])\n",
    "print(model1.summary())"
   ]
  },
  {
   "cell_type": "code",
   "execution_count": 47,
   "metadata": {},
   "outputs": [
    {
     "name": "stdout",
     "output_type": "stream",
     "text": [
      "Epoch 1/6\n",
      "250/250 [==============================] - 1s 3ms/step - loss: 0.5623 - accuracy: 0.7094 - val_loss: 0.5029 - val_accuracy: 0.7635\n",
      "Epoch 2/6\n",
      "250/250 [==============================] - 1s 3ms/step - loss: 0.4494 - accuracy: 0.7968 - val_loss: 0.5147 - val_accuracy: 0.7546\n",
      "Epoch 3/6\n",
      "250/250 [==============================] - 1s 3ms/step - loss: 0.4136 - accuracy: 0.8161 - val_loss: 0.4995 - val_accuracy: 0.7660\n",
      "Epoch 4/6\n",
      "250/250 [==============================] - 1s 3ms/step - loss: 0.3898 - accuracy: 0.8284 - val_loss: 0.5109 - val_accuracy: 0.7616\n",
      "Epoch 5/6\n",
      "250/250 [==============================] - 1s 3ms/step - loss: 0.3746 - accuracy: 0.8386 - val_loss: 0.5191 - val_accuracy: 0.7564\n",
      "Epoch 6/6\n",
      "250/250 [==============================] - 1s 4ms/step - loss: 0.3627 - accuracy: 0.8417 - val_loss: 0.5331 - val_accuracy: 0.7548\n"
     ]
    },
    {
     "data": {
      "text/plain": [
       "<keras.src.callbacks.History at 0x1fef478c810>"
      ]
     },
     "execution_count": 47,
     "metadata": {},
     "output_type": "execute_result"
    }
   ],
   "source": [
    "model1.fit(X_train, y_train, batch_size=128, epochs=6, verbose=1, validation_split=0.2)"
   ]
  },
  {
   "cell_type": "code",
   "execution_count": 50,
   "metadata": {},
   "outputs": [
    {
     "name": "stdout",
     "output_type": "stream",
     "text": [
      "dict_keys([])\n"
     ]
    }
   ],
   "source": [
    "# Print available keys in the history object\n",
    "print(model1.history.history.keys())"
   ]
  },
  {
   "cell_type": "code",
   "execution_count": 51,
   "metadata": {},
   "outputs": [
    {
     "name": "stdout",
     "output_type": "stream",
     "text": [
      "313/313 [==============================] - 0s 1ms/step - loss: 0.5594 - accuracy: 0.7500\n",
      "Test score: 0.5593663454055786\n",
      "Test accuracy: 0.75\n"
     ]
    }
   ],
   "source": [
    "score = model1.evaluate(X_test, y_test, verbose=1)\n",
    "\n",
    "print(\"Test score:\", score[0])\n",
    "print(\"Test accuracy:\", score[1])\n",
    "\n"
   ]
  },
  {
   "cell_type": "markdown",
   "metadata": {},
   "source": [
    "### Modelling - CNN"
   ]
  },
  {
   "cell_type": "code",
   "execution_count": 52,
   "metadata": {},
   "outputs": [],
   "source": [
    "from keras.layers import Conv1D"
   ]
  },
  {
   "cell_type": "code",
   "execution_count": 53,
   "metadata": {},
   "outputs": [
    {
     "name": "stdout",
     "output_type": "stream",
     "text": [
      "Model: \"sequential_6\"\n",
      "_________________________________________________________________\n",
      " Layer (type)                Output Shape              Param #   \n",
      "=================================================================\n",
      " embedding_6 (Embedding)     (None, 100, 100)          9239400   \n",
      "                                                                 \n",
      " conv1d (Conv1D)             (None, 96, 128)           64128     \n",
      "                                                                 \n",
      " global_max_pooling1d (Glob  (None, 128)               0         \n",
      " alMaxPooling1D)                                                 \n",
      "                                                                 \n",
      " dense_4 (Dense)             (None, 1)                 129       \n",
      "                                                                 \n",
      "=================================================================\n",
      "Total params: 9303657 (35.49 MB)\n",
      "Trainable params: 64257 (251.00 KB)\n",
      "Non-trainable params: 9239400 (35.25 MB)\n",
      "_________________________________________________________________\n",
      "Epoch 1/6\n",
      "250/250 [==============================] - 6s 20ms/step - loss: 0.4746 - accuracy: 0.7704 - val_loss: 0.3798 - val_accuracy: 0.8380\n",
      "Epoch 2/6\n",
      "250/250 [==============================] - 5s 19ms/step - loss: 0.3422 - accuracy: 0.8533 - val_loss: 0.3515 - val_accuracy: 0.8465\n",
      "Epoch 3/6\n",
      "250/250 [==============================] - 5s 18ms/step - loss: 0.2866 - accuracy: 0.8857 - val_loss: 0.3487 - val_accuracy: 0.8450\n",
      "Epoch 4/6\n",
      "250/250 [==============================] - 5s 19ms/step - loss: 0.2415 - accuracy: 0.9106 - val_loss: 0.3335 - val_accuracy: 0.8530\n",
      "Epoch 5/6\n",
      "250/250 [==============================] - 5s 20ms/step - loss: 0.2041 - accuracy: 0.9303 - val_loss: 0.3461 - val_accuracy: 0.8475\n",
      "Epoch 6/6\n",
      "250/250 [==============================] - 6s 23ms/step - loss: 0.1681 - accuracy: 0.9480 - val_loss: 0.3475 - val_accuracy: 0.8493\n"
     ]
    },
    {
     "data": {
      "text/plain": [
       "<keras.src.callbacks.History at 0x1fef4a3af10>"
      ]
     },
     "execution_count": 53,
     "metadata": {},
     "output_type": "execute_result"
    }
   ],
   "source": [
    "model2 = Sequential()\n",
    "embedding_layer = Embedding(vocab_length,100,weights=[embeddings_matrix], input_length=maxlen, trainable=False)\n",
    "model2.add(embedding_layer)\n",
    "model2.add(Conv1D(128, 5, activation='relu'))\n",
    "model2.add(GlobalMaxPooling1D())\n",
    "model2.add(Dense(1, activation='sigmoid'))\n",
    "\n",
    "model2.compile(optimizer='adam', loss='binary_crossentropy', metrics=['accuracy'])\n",
    "model2.summary()\n",
    "\n",
    "\n",
    "model2.fit(X_train, y_train, batch_size=128, epochs=6, verbose=1, validation_split=0.2)"
   ]
  },
  {
   "cell_type": "code",
   "execution_count": 57,
   "metadata": {},
   "outputs": [
    {
     "name": "stdout",
     "output_type": "stream",
     "text": [
      "313/313 [==============================] - 1s 2ms/step - loss: 0.3468 - accuracy: 0.8510\n",
      "Test Score: 0.3468025028705597\n",
      "Test Accuracy: 0.8510000109672546\n"
     ]
    }
   ],
   "source": [
    "# Predictions on the Test Set\n",
    "score = model2.evaluate(X_test, y_test, verbose=1)\n",
    "\n",
    "# Model Performance\n",
    "print(\"Test Score:\", score[0])\n",
    "print(\"Test Accuracy:\", score[1])"
   ]
  },
  {
   "cell_type": "markdown",
   "metadata": {},
   "source": [
    "### Modelling - LSTM"
   ]
  },
  {
   "cell_type": "code",
   "execution_count": 58,
   "metadata": {},
   "outputs": [],
   "source": [
    "from keras.layers import LSTM"
   ]
  },
  {
   "cell_type": "code",
   "execution_count": 60,
   "metadata": {},
   "outputs": [
    {
     "name": "stdout",
     "output_type": "stream",
     "text": [
      "Model: \"sequential_8\"\n",
      "_________________________________________________________________\n",
      " Layer (type)                Output Shape              Param #   \n",
      "=================================================================\n",
      " embedding_8 (Embedding)     (None, 100, 100)          9239400   \n",
      "                                                                 \n",
      " lstm_1 (LSTM)               (None, 128)               117248    \n",
      "                                                                 \n",
      " dense_6 (Dense)             (None, 1)                 129       \n",
      "                                                                 \n",
      "=================================================================\n",
      "Total params: 9356777 (35.69 MB)\n",
      "Trainable params: 117377 (458.50 KB)\n",
      "Non-trainable params: 9239400 (35.25 MB)\n",
      "_________________________________________________________________\n",
      "Epoch 1/6\n",
      "250/250 [==============================] - 65s 236ms/step - loss: 0.5328 - accuracy: 0.7389 - val_loss: 0.5006 - val_accuracy: 0.7619\n",
      "Epoch 2/6\n",
      "250/250 [==============================] - 36s 146ms/step - loss: 0.4268 - accuracy: 0.8091 - val_loss: 0.3796 - val_accuracy: 0.8346\n",
      "Epoch 3/6\n",
      "250/250 [==============================] - 36s 145ms/step - loss: 0.3826 - accuracy: 0.8324 - val_loss: 0.3538 - val_accuracy: 0.8484\n",
      "Epoch 4/6\n",
      "250/250 [==============================] - 38s 152ms/step - loss: 0.3459 - accuracy: 0.8532 - val_loss: 0.3386 - val_accuracy: 0.8554\n",
      "Epoch 5/6\n",
      "250/250 [==============================] - 36s 145ms/step - loss: 0.3219 - accuracy: 0.8630 - val_loss: 0.3613 - val_accuracy: 0.8434\n",
      "Epoch 6/6\n",
      "250/250 [==============================] - 36s 143ms/step - loss: 0.3023 - accuracy: 0.8755 - val_loss: 0.3107 - val_accuracy: 0.8673\n"
     ]
    }
   ],
   "source": [
    "model3 = Sequential()\n",
    "embedding_layer = Embedding(vocab_length, 100, weights=[embeddings_matrix], input_length=maxlen, trainable=False)\n",
    "model3.add(embedding_layer)\n",
    "model3.add(LSTM(128))\n",
    "model3.add(Dense(1,activation='sigmoid'))\n",
    "\n",
    "model3.compile(optimizer='adam', loss='binary_crossentropy', metrics=['accuracy'])\n",
    "model3.summary()\n",
    "\n",
    "model3_history = model3.fit(X_train, y_train, batch_size=128, epochs=6, validation_split=0.2)"
   ]
  },
  {
   "cell_type": "code",
   "execution_count": 62,
   "metadata": {},
   "outputs": [
    {
     "name": "stdout",
     "output_type": "stream",
     "text": [
      "313/313 [==============================] - 7s 21ms/step - loss: 0.3171 - accuracy: 0.8669\n",
      "Test Score: 0.31714189052581787\n",
      "Test Accuracy: 0.8669000267982483\n"
     ]
    },
    {
     "data": {
      "image/png": "[encoded data removed]",
      "text/plain": [
       "<Figure size 640x480 with 1 Axes>"
      ]
     },
     "metadata": {},
     "output_type": "display_data"
    },
    {
     "data": {
      "image/png": "[encoded data removed]",
      "text/plain": [
       "<Figure size 640x480 with 1 Axes>"
      ]
     },
     "metadata": {},
     "output_type": "display_data"
    }
   ],
   "source": [
    "# Predictions on the Test Set\n",
    "score = model3.evaluate(X_test, y_test, verbose=1)\n",
    "\n",
    "# Model Performance\n",
    "print(\"Test Score:\", score[0])\n",
    "print(\"Test Accuracy:\", score[1])\n",
    "\n",
    "# Model Performance Charts\n",
    "import matplotlib.pyplot as plt\n",
    "plt.plot(model3_history.history['accuracy'])\n",
    "plt.plot(model3_history.history['val_accuracy'])\n",
    "plt.title('model accuracy')\n",
    "plt.ylabel('accuracy')\n",
    "plt.xlabel('epoch')\n",
    "plt.legend(['train','test'], loc='upper left')\n",
    "plt.show()\n",
    "plt.plot(model3_history.history['loss'])\n",
    "plt.plot(model3_history.history['val_loss'])\n",
    "plt.title('model loss')\n",
    "plt.ylabel('loss')\n",
    "plt.xlabel('epoch')\n",
    "plt.legend(['train','test'], loc='upper left')\n",
    "plt.show()"
   ]
  },
  {
   "cell_type": "markdown",
   "metadata": {},
   "source": [
    "#### Prediction on unseen reviews"
   ]
  },
  {
   "cell_type": "code",
   "execution_count": 65,
   "metadata": {},
   "outputs": [],
   "source": [
    "sample_rev = pd.read_csv('IMDb_Unseen_Reviews.csv')"
   ]
  },
  {
   "cell_type": "code",
   "execution_count": 66,
   "metadata": {},
   "outputs": [
    {
     "data": {
      "text/html": [
       "<div>\n",
       "<style scoped>\n",
       "    .dataframe tbody tr th:only-of-type {\n",
       "        vertical-align: middle;\n",
       "    }\n",
       "\n",
       "    .dataframe tbody tr th {\n",
       "        vertical-align: top;\n",
       "    }\n",
       "\n",
       "    .dataframe thead th {\n",
       "        text-align: right;\n",
       "    }\n",
       "</style>\n",
       "<table border=\"1\" class=\"dataframe\">\n",
       "  <thead>\n",
       "    <tr style=\"text-align: right;\">\n",
       "      <th></th>\n",
       "      <th>Unnamed: 0</th>\n",
       "      <th>Movie</th>\n",
       "      <th>Review Text</th>\n",
       "      <th>IMDb Rating</th>\n",
       "    </tr>\n",
       "  </thead>\n",
       "  <tbody>\n",
       "    <tr>\n",
       "      <th>0</th>\n",
       "      <td>0</td>\n",
       "      <td>Ex Machina</td>\n",
       "      <td>Intelligent Movie.\\nThis movie is obviously al...</td>\n",
       "      <td>9</td>\n",
       "    </tr>\n",
       "    <tr>\n",
       "      <th>1</th>\n",
       "      <td>1</td>\n",
       "      <td>Ex Machina</td>\n",
       "      <td>Extraordinary and thought-provoking.\\n'Ex mach...</td>\n",
       "      <td>10</td>\n",
       "    </tr>\n",
       "    <tr>\n",
       "      <th>2</th>\n",
       "      <td>2</td>\n",
       "      <td>Ex Machina</td>\n",
       "      <td>Poor story, only reasonable otherwise.\\nIf I h...</td>\n",
       "      <td>3</td>\n",
       "    </tr>\n",
       "    <tr>\n",
       "      <th>3</th>\n",
       "      <td>3</td>\n",
       "      <td>Ex Machina</td>\n",
       "      <td>Had Great Potential.\\nThis movie is one of the...</td>\n",
       "      <td>1</td>\n",
       "    </tr>\n",
       "    <tr>\n",
       "      <th>4</th>\n",
       "      <td>4</td>\n",
       "      <td>Eternals</td>\n",
       "      <td>Amazing visuals and philosophical concepts!\\n\\...</td>\n",
       "      <td>10</td>\n",
       "    </tr>\n",
       "    <tr>\n",
       "      <th>5</th>\n",
       "      <td>5</td>\n",
       "      <td>Eternals</td>\n",
       "      <td>Worst MCU film ever\\n\\nFollowing the events of...</td>\n",
       "      <td>3</td>\n",
       "    </tr>\n",
       "  </tbody>\n",
       "</table>\n",
       "</div>"
      ],
      "text/plain": [
       "   Unnamed: 0  ... IMDb Rating\n",
       "0           0  ...           9\n",
       "1           1  ...          10\n",
       "2           2  ...           3\n",
       "3           3  ...           1\n",
       "4           4  ...          10\n",
       "5           5  ...           3\n",
       "\n",
       "[6 rows x 4 columns]"
      ]
     },
     "execution_count": 66,
     "metadata": {},
     "output_type": "execute_result"
    }
   ],
   "source": [
    "sample_rev"
   ]
  },
  {
   "cell_type": "code",
   "execution_count": 67,
   "metadata": {},
   "outputs": [],
   "source": [
    "unseen_rev = sample_rev['Review Text']"
   ]
  },
  {
   "cell_type": "code",
   "execution_count": 74,
   "metadata": {},
   "outputs": [
    {
     "data": {
      "text/plain": [
       "0    Intelligent Movie.\\nThis movie is obviously al...\n",
       "1    Extraordinary and thought-provoking.\\n'Ex mach...\n",
       "2    Poor story, only reasonable otherwise.\\nIf I h...\n",
       "3    Had Great Potential.\\nThis movie is one of the...\n",
       "4    Amazing visuals and philosophical concepts!\\n\\...\n",
       "5    Worst MCU film ever\\n\\nFollowing the events of...\n",
       "Name: Review Text, dtype: object"
      ]
     },
     "execution_count": 74,
     "metadata": {},
     "output_type": "execute_result"
    }
   ],
   "source": [
    "unseen_rev"
   ]
  },
  {
   "cell_type": "code",
   "execution_count": 75,
   "metadata": {},
   "outputs": [],
   "source": [
    "unseen_processed = []\n",
    "for review in unseen_rev:\n",
    "    review = preprocess_sent(review)\n",
    "    unseen_processed.append(review)"
   ]
  },
  {
   "cell_type": "code",
   "execution_count": 76,
   "metadata": {},
   "outputs": [
    {
     "data": {
      "text/plain": [
       "['intelligent movie  movie obviously allegorical fascinating tale ai  mainly manipulation power  wanting action spectacular cgi  movie aimed people like think  rather passively wait entertained  themes ai  also surveillance  excellent points data us collected phone companies  search engine companies  commercial operating systems makers plot seems simple extremely clever  protagonist playing games  trying stay one step ahead one another  movie perfectly consistent internal logic plays perfectly  go expecting much  however  see people satisfied movie  sets brilliantly  therefore give least       recent movies getting      movie succeeds another recent movie ai  transcendence think called  failed  interesting failure third movie ai spanish movie called eva  also brilliant  eva moving movie philosophical  movies perfect different ways  ai name movie  ava  seems nod title spanish movie  aside  nice stars  appeared ex machina  eva   casting great  course several aspects movie unrealistic often absurd  allegorical movie  acceptable  movie making points  rather striving realism  fairytale accurate portrayal ',\n",
       " 'extraordinary thought provoking   ex machina  surprisingly dense  titles alex garland written  perhaps excepting annihilation   simple concept given definite narrative  narrative pointedly explores nature thought  perception  broaching nature ramifications morality  psychological thriller  fundamental construction minute rendering alike  intense feature genre name offhand  much almost classify horror  movie emphasizes plays dire uncertainty intent  motivation  reality way climax  even leaves us somewhat ambiguous ending  ordinary beginning captivating ending  every point  ex machina  absolutely marvelous   performance seen oscar isaac  none nearly forceful portrayal nathan  exhibiting outstanding nuance sharp personality realization man exceptionally intelligent  exceptionally cruel conniving especially familiar domhnall gleeson  irish actor demonstrates admirable range poise readily matching traits immediately notable costars  said   certainly count anyone else involved   alicia vikander phenomenal ava  showing careful exactness every motion expression befitting character  impressing skills subtle ways love score composed ben salisbury geoff barrow  lending pensive unease film building great crescendo precise appropriate moments  sound design exquisite   soft unobtrusive  qualities denoting meticulous craft feature  highly advanced status ava  special effects  read little bit production history informs substantial effort made ensure every element nathan creation visualized utmost possibility realism  think endeavor paid handsomely   characters written wonderfully complex  dialogue deceptively garland scene writing impeccable deeply engrossing  say nothing overall narrative delves heavy subject matter  even aware acclaim feature garnered since release wholly sure expect sat watch  got far exceeded anything imagined  mostly stepping away significantly common story ideas populate sci fi films artificial intelligence  garland screenplay analyzes consciousness depth  completeness  potency anticipated genre picture  result terrifically engaging exhilarating  factor sound performances excellent music  ex machina  firmly first rate slice science fiction call must see ',\n",
       " 'poor story  reasonable otherwise  realised alex garland would bothered watching remember reading book beach years ago thinking  something nice time sure seen ex machina feeling  story chosen simply appeal large audience  rather manipulative  unthinking unfeeling way normally write bad reviews   anything  preferring focus positive  dislike felt write something put people wasting time  assimilating nastiness    case ex machina imagine garland wondering would next project  googling ai quickly finding ai box experiment  rather heart  soul searching work would necessary produce anything original imagine quickly turning somebody else idea next big proposal present film studio   unoriginal idea  presented fairly pedestrian way  lots images derived young person view sexuality   made also wonder film rather prejudiced women   reasonably paced found yawning lot   quite would expect good thriller   domhnall gleeson ok  pretty good job ',\n",
       " 'great potential  movie one countless come hollywood great potential   however  like many personalities hollywood  sold soul cheap finish   beautiful ideas movie  could great   however  producers chose go cheap thriller effect  instead exploring truly makes us human machine  conceived  written  produced idiots soul   waste time   redeeming part movie dweeb gets sent sticks  surprised smartphone tell signal  producers writers piece crap obviously signal also ',\n",
       " 'amazing visuals philosophical concepts   eternals visual masterpiece  inner challenges eternals face great signifier mcu moving mature  meaningful phase   look deeper plot events significance  appreciate detail put timeline spans thousands years  low underwhelming ratings seem obviously place  despite fact many people loved mcu couple buff guys sexualised women  transition mcu going inevitable  franchise supported generations  quite frankly awesome   besides stunning visuals deep undertones chloe zhao certainly packs enough fight scenes possibly needed  eternal represents unique power  connected source cosmic energy  variability allows exhilarating fight scenes arguably interesting couple punches  kicks stray flying weapon  love stories quaint meaningful  certainly take much run time   overall  new age maturity deeper concepts seen movie definitely something look forward phase   ',\n",
       " 'worst mcu film ever  following events avengers  endgame         unexpected tragedy forces eternals  ancient aliens living earth secret thousands years  shadows reunite mankind ancient enemy  deviants   film far worst mcu film watch  massive insuylt comics jack kirby days  gender swapping eternals  bad story telling makes absolutely sense  unlikeable characters  little action ridicules changes mcu sum bad film  completely ruined endgame  goods music cgi arishen well bonus points voiced david kaye   good movie makes captain marvel iron man   look good ']"
      ]
     },
     "execution_count": 76,
     "metadata": {},
     "output_type": "execute_result"
    }
   ],
   "source": [
    "unseen_processed"
   ]
  },
  {
   "cell_type": "code",
   "execution_count": 69,
   "metadata": {},
   "outputs": [],
   "source": [
    "unseen_tok = word_tokenizer.texts_to_sequences(unseen_processed)\n",
    "\n",
    "unseen_pad = pad_sequences(unseen_tok, padding='post', maxlen=maxlen)"
   ]
  },
  {
   "cell_type": "code",
   "execution_count": 78,
   "metadata": {},
   "outputs": [
    {
     "name": "stdout",
     "output_type": "stream",
     "text": [
      "1/1 [==============================] - 0s 33ms/step\n"
     ]
    }
   ],
   "source": [
    "#passing tokenised instance to model\n",
    "unseen_sentiments = model3.predict(unseen_pad)"
   ]
  },
  {
   "cell_type": "code",
   "execution_count": 79,
   "metadata": {},
   "outputs": [
    {
     "data": {
      "text/plain": [
       "array([[0.9410477 ],\n",
       "       [0.9938255 ],\n",
       "       [0.23254378],\n",
       "       [0.46582907],\n",
       "       [0.972859  ],\n",
       "       [0.01024137]], dtype=float32)"
      ]
     },
     "execution_count": 79,
     "metadata": {},
     "output_type": "execute_result"
    }
   ],
   "source": [
    "unseen_sentiments"
   ]
  },
  {
   "cell_type": "code",
   "execution_count": 82,
   "metadata": {},
   "outputs": [],
   "source": [
    "sample_rev['Predicted Sentiments'] = np.round(unseen_sentiments*10,1)"
   ]
  },
  {
   "cell_type": "code",
   "execution_count": 85,
   "metadata": {},
   "outputs": [
    {
     "data": {
      "text/html": [
       "<div>\n",
       "<style scoped>\n",
       "    .dataframe tbody tr th:only-of-type {\n",
       "        vertical-align: middle;\n",
       "    }\n",
       "\n",
       "    .dataframe tbody tr th {\n",
       "        vertical-align: top;\n",
       "    }\n",
       "\n",
       "    .dataframe thead th {\n",
       "        text-align: right;\n",
       "    }\n",
       "</style>\n",
       "<table border=\"1\" class=\"dataframe\">\n",
       "  <thead>\n",
       "    <tr style=\"text-align: right;\">\n",
       "      <th></th>\n",
       "      <th>Movie</th>\n",
       "      <th>Review Text</th>\n",
       "      <th>IMDb Rating</th>\n",
       "      <th>Predicted Sentiments</th>\n",
       "    </tr>\n",
       "  </thead>\n",
       "  <tbody>\n",
       "    <tr>\n",
       "      <th>0</th>\n",
       "      <td>Ex Machina</td>\n",
       "      <td>Intelligent Movie.\\nThis movie is obviously al...</td>\n",
       "      <td>9</td>\n",
       "      <td>9.4</td>\n",
       "    </tr>\n",
       "    <tr>\n",
       "      <th>1</th>\n",
       "      <td>Ex Machina</td>\n",
       "      <td>Extraordinary and thought-provoking.\\n'Ex mach...</td>\n",
       "      <td>10</td>\n",
       "      <td>9.9</td>\n",
       "    </tr>\n",
       "    <tr>\n",
       "      <th>2</th>\n",
       "      <td>Ex Machina</td>\n",
       "      <td>Poor story, only reasonable otherwise.\\nIf I h...</td>\n",
       "      <td>3</td>\n",
       "      <td>2.3</td>\n",
       "    </tr>\n",
       "    <tr>\n",
       "      <th>3</th>\n",
       "      <td>Ex Machina</td>\n",
       "      <td>Had Great Potential.\\nThis movie is one of the...</td>\n",
       "      <td>1</td>\n",
       "      <td>4.7</td>\n",
       "    </tr>\n",
       "    <tr>\n",
       "      <th>4</th>\n",
       "      <td>Eternals</td>\n",
       "      <td>Amazing visuals and philosophical concepts!\\n\\...</td>\n",
       "      <td>10</td>\n",
       "      <td>9.7</td>\n",
       "    </tr>\n",
       "    <tr>\n",
       "      <th>5</th>\n",
       "      <td>Eternals</td>\n",
       "      <td>Worst MCU film ever\\n\\nFollowing the events of...</td>\n",
       "      <td>3</td>\n",
       "      <td>0.1</td>\n",
       "    </tr>\n",
       "  </tbody>\n",
       "</table>\n",
       "</div>"
      ],
      "text/plain": [
       "        Movie  ... Predicted Sentiments\n",
       "0  Ex Machina  ...                  9.4\n",
       "1  Ex Machina  ...                  9.9\n",
       "2  Ex Machina  ...                  2.3\n",
       "3  Ex Machina  ...                  4.7\n",
       "4    Eternals  ...                  9.7\n",
       "5    Eternals  ...                  0.1\n",
       "\n",
       "[6 rows x 4 columns]"
      ]
     },
     "execution_count": 85,
     "metadata": {},
     "output_type": "execute_result"
    }
   ],
   "source": [
    "df_prediction_sentiments = pd.DataFrame(sample_rev['Predicted Sentiments'], columns = ['Predicted Sentiments'])\n",
    "df_movie                 = pd.DataFrame(sample_rev['Movie'], columns = ['Movie'])\n",
    "df_review_text           = pd.DataFrame(sample_rev['Review Text'], columns = ['Review Text'])\n",
    "df_imdb_rating           = pd.DataFrame(sample_rev['IMDb Rating'], columns = ['IMDb Rating'])\n",
    "dfx=pd.concat([df_movie, df_review_text, df_imdb_rating, df_prediction_sentiments], axis=1)\n",
    "dfx.head(6)"
   ]
  },
  {
   "cell_type": "code",
   "execution_count": null,
   "metadata": {},
   "outputs": [],
   "source": []
  }
 ],
 "metadata": {
  "kernelspec": {
   "display_name": "envTM",
   "language": "python",
   "name": "python3"
  },
  "language_info": {
   "codemirror_mode": {
    "name": "ipython",
    "version": 3
   },
   "file_extension": ".py",
   "mimetype": "text/x-python",
   "name": "python",
   "nbconvert_exporter": "python",
   "pygments_lexer": "ipython3",
   "version": "3.11.5"
  }
 },
 "nbformat": 4,
 "nbformat_minor": 2
}
